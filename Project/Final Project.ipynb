{
 "cells": [
  {
   "cell_type": "markdown",
   "id": "accessory-suicide",
   "metadata": {},
   "source": [
    "##### Project Scribble\n",
    "Project: Porfolio Optimization"
   ]
  },
  {
   "cell_type": "markdown",
   "id": "cleared-capability",
   "metadata": {},
   "source": [
    "#### Completed\n",
    "- Implemented Pearson's Corelation Coefficient function\n",
    "- Created dataset with all features (x values) raised to their coefficient value\n",
    "\n",
    "#### What's Next\n",
    "- Implement **multiple** linear regression\n",
    "- Split data into training and testing sets (predicting stocks for 2 weeks)\n",
    "- Train model\n",
    "- Test multiple linear regression on test set\n",
    "- Clean up code so that it works for other stock datasets"
   ]
  },
  {
   "cell_type": "code",
   "execution_count": 259,
   "id": "accepting-barrier",
   "metadata": {},
   "outputs": [],
   "source": [
    "# Importing libraries\n",
    "import pandas as pd\n",
    "import numpy as np\n",
    "import matplotlib.pyplot as plt\n",
    "\n",
    "# This line is for displaying our graphs in Jupyter\n",
    "%matplotlib inline"
   ]
  },
  {
   "cell_type": "markdown",
   "id": "asian-calendar",
   "metadata": {},
   "source": [
    "#### Functions"
   ]
  },
  {
   "cell_type": "code",
   "execution_count": 260,
   "id": "southwest-dimension",
   "metadata": {},
   "outputs": [],
   "source": [
    "# Pearson's Corelation Coefficient function\n",
    "\n",
    "# Input:\n",
    "## dataframe: The dataframe where the data is stored\n",
    "## x_column: The name of the x column we want to measure\n",
    "## y_column: The name of the y column we want to measure\n",
    "\n",
    "# Output:\n",
    "## r = the Pearson's Corelation Coefficient\n",
    "\n",
    "def PCC(dataframe: pd, x_column_name: str, y_column_name: str):\n",
    "    x_values = dataframe.loc[:, x_column_name]\n",
    "    y_values = dataframe.loc[:, y_column_name]\n",
    "    \n",
    "    x_mean = x_values.mean()\n",
    "    y_mean = y_values.mean()\n",
    "    \n",
    "    numerator = sum((x_values - x_mean) * (y_values- y_mean))\n",
    "    denominator = np.sqrt(sum((x_values - x_mean)**2) * sum((y_values - y_mean)**2))\n",
    "    \n",
    "    r = numerator / denominator\n",
    "    \n",
    "    return r"
   ]
  },
  {
   "cell_type": "code",
   "execution_count": 261,
   "id": "banned-respect",
   "metadata": {},
   "outputs": [],
   "source": [
    "# Mean Squared Error function\n",
    "# Will help with preventing \"inf/nan\" when doing linear regression\n",
    "\n",
    "# Inputs:\n",
    "## dataframe: The dataframe where the data is stored\n",
    "## x_column: The name of the x column we want to measure\n",
    "## y_column: The name of the y column we want to measure\n",
    "## weight: The slope\n",
    "## bias: The y-intercept\n",
    "\n",
    "# Output:\n",
    "## cost: The mean squared error value\n",
    "\n",
    "def MSE(dataframe: pd, x_column_name: str, y_column_name: str, weight: int, bias: int):\n",
    "    data_length = len(dataframe)\n",
    "    \n",
    "    x_values = dataframe.loc[:, x_column_name]\n",
    "    y_values = dataframe.loc[:, y_column_name]\n",
    "    \n",
    "    sum_error = sum((bias + (weight * x_values) - y_values) ** 2)\n",
    "    \n",
    "    cost = (1 / data_length) * sum_error\n",
    "    \n",
    "    return cost"
   ]
  },
  {
   "cell_type": "markdown",
   "id": "industrial-newfoundland",
   "metadata": {},
   "source": [
    "###### Ignore this linear regression function. It only works for one x value (Simple Linear Regression).\n",
    "###### We need Multiple Linear Regression"
   ]
  },
  {
   "cell_type": "code",
   "execution_count": 262,
   "id": "auburn-service",
   "metadata": {},
   "outputs": [],
   "source": [
    "# Modified Simple Linear Regression function (easier to read)\n",
    "\n",
    "# Inputs:\n",
    "## dataframe: The dataframe where the data is stored\n",
    "## x_column: The name of the x column we want to measure\n",
    "## y_column: The name of the y column we want to measure\n",
    "## weight: The slope you want to start calculating the gradient descent with (default weight = 0)\n",
    "## bias: The y-intercept you want to start calculating the gradient descent with (default bias = 0)\n",
    "## rate: The rate you want the gradien descent to adjust by (default rate = 0.0001)\n",
    "## epochs: How many times do we adjusy the gradient descent (default epochs = 1000)\n",
    "\n",
    "# Outputs:\n",
    "# A tuple that includes the new weight and new bias (slope and y-intercept)\n",
    "\n",
    "def LinearRegression(dataframe: pd, \n",
    "                     x_column_name: str, \n",
    "                     y_column_name: str,\n",
    "                     weight = 0,\n",
    "                     bias = 0,\n",
    "                     rate = 0.0001,\n",
    "                     epochs = 1000\n",
    "                    ):\n",
    "    \n",
    "    # Setting up the weights and bias that will most likely change in value over time\n",
    "    new_weight = weight\n",
    "    new_bias = bias\n",
    "    \n",
    "    mse = MSE(dataframe, x_column_name, y_column_name, weight, bias)\n",
    "    \n",
    "    # x_values contains the values of the entire column of \"x_column\"\n",
    "    # y_values contains the values of the entire column of \"y_column\"\n",
    "    x_values = dataframe.loc[:, x_column_name]\n",
    "    y_values = dataframe.loc[:, y_column_name]\n",
    "    \n",
    "    # Just getting the full length of the dataframe\n",
    "    data_length = len(dataframe)\n",
    "    \n",
    "    # Gradient descent portion\n",
    "    for i in range(epochs):\n",
    "        # pred_y_values is a new column, where the m'x+b' formula has been applied\n",
    "        # Every row in pred_y_values has the formula applied\n",
    "        pred_y_values = (new_weight * x_values) + new_bias\n",
    "        \n",
    "        # Obtaining the partial derivatives of the weight and bias\n",
    "        der_weight = (-2 / data_length) * sum(x_values * (y_values - pred_y_values))\n",
    "        der_bias = (-2 / data_length) * sum(y_values - pred_y_values)\n",
    "        \n",
    "        # Calculating the new_weight and new bias\n",
    "        new_weight = new_weight - rate * der_weight\n",
    "        new_bias = new_bias - rate * der_bias\n",
    "        \n",
    "        new_mse = MSE(dataframe, x_column_name, y_column_name, new_weight, new_bias)\n",
    "        if new_mse > mse:\n",
    "            return (new_weight, new_bias)\n",
    "        else:\n",
    "            mse = new_mse\n",
    "        \n",
    "    return (new_weight, new_bias)"
   ]
  },
  {
   "cell_type": "markdown",
   "id": "excess-treatment",
   "metadata": {},
   "source": [
    "#### Begining of main program"
   ]
  },
  {
   "cell_type": "code",
   "execution_count": 263,
   "id": "relative-final",
   "metadata": {},
   "outputs": [],
   "source": [
    "# Creating a dataframe with AMC stock data\n",
    "# A dataframe is basically a class that can neatly store values into a table\n",
    "amc_df = pd.read_csv(\"stock data/AMC.csv\")"
   ]
  },
  {
   "cell_type": "code",
   "execution_count": 264,
   "id": "exact-content",
   "metadata": {},
   "outputs": [
    {
     "data": {
      "text/html": [
       "<div>\n",
       "<style scoped>\n",
       "    .dataframe tbody tr th:only-of-type {\n",
       "        vertical-align: middle;\n",
       "    }\n",
       "\n",
       "    .dataframe tbody tr th {\n",
       "        vertical-align: top;\n",
       "    }\n",
       "\n",
       "    .dataframe thead th {\n",
       "        text-align: right;\n",
       "    }\n",
       "</style>\n",
       "<table border=\"1\" class=\"dataframe\">\n",
       "  <thead>\n",
       "    <tr style=\"text-align: right;\">\n",
       "      <th></th>\n",
       "      <th>Date</th>\n",
       "      <th>Open</th>\n",
       "      <th>High</th>\n",
       "      <th>Low</th>\n",
       "      <th>Close</th>\n",
       "      <th>Adj Close</th>\n",
       "      <th>Volume</th>\n",
       "    </tr>\n",
       "  </thead>\n",
       "  <tbody>\n",
       "    <tr>\n",
       "      <th>0</th>\n",
       "      <td>2020-04-16</td>\n",
       "      <td>2.35</td>\n",
       "      <td>2.49</td>\n",
       "      <td>2.15</td>\n",
       "      <td>2.44</td>\n",
       "      <td>2.44</td>\n",
       "      <td>6290800</td>\n",
       "    </tr>\n",
       "    <tr>\n",
       "      <th>1</th>\n",
       "      <td>2020-04-17</td>\n",
       "      <td>3.85</td>\n",
       "      <td>3.85</td>\n",
       "      <td>3.05</td>\n",
       "      <td>3.20</td>\n",
       "      <td>3.20</td>\n",
       "      <td>26799900</td>\n",
       "    </tr>\n",
       "    <tr>\n",
       "      <th>2</th>\n",
       "      <td>2020-04-20</td>\n",
       "      <td>3.22</td>\n",
       "      <td>3.44</td>\n",
       "      <td>3.06</td>\n",
       "      <td>3.18</td>\n",
       "      <td>3.18</td>\n",
       "      <td>10787200</td>\n",
       "    </tr>\n",
       "    <tr>\n",
       "      <th>3</th>\n",
       "      <td>2020-04-21</td>\n",
       "      <td>3.20</td>\n",
       "      <td>3.38</td>\n",
       "      <td>3.15</td>\n",
       "      <td>3.25</td>\n",
       "      <td>3.25</td>\n",
       "      <td>5788400</td>\n",
       "    </tr>\n",
       "    <tr>\n",
       "      <th>4</th>\n",
       "      <td>2020-04-22</td>\n",
       "      <td>3.39</td>\n",
       "      <td>3.39</td>\n",
       "      <td>3.16</td>\n",
       "      <td>3.18</td>\n",
       "      <td>3.18</td>\n",
       "      <td>4568600</td>\n",
       "    </tr>\n",
       "  </tbody>\n",
       "</table>\n",
       "</div>"
      ],
      "text/plain": [
       "         Date  Open  High   Low  Close  Adj Close    Volume\n",
       "0  2020-04-16  2.35  2.49  2.15   2.44       2.44   6290800\n",
       "1  2020-04-17  3.85  3.85  3.05   3.20       3.20  26799900\n",
       "2  2020-04-20  3.22  3.44  3.06   3.18       3.18  10787200\n",
       "3  2020-04-21  3.20  3.38  3.15   3.25       3.25   5788400\n",
       "4  2020-04-22  3.39  3.39  3.16   3.18       3.18   4568600"
      ]
     },
     "execution_count": 264,
     "metadata": {},
     "output_type": "execute_result"
    }
   ],
   "source": [
    "# Taking a peak at the first 5 rows of our table\n",
    "amc_df.head()"
   ]
  },
  {
   "cell_type": "code",
   "execution_count": 265,
   "id": "measured-poster",
   "metadata": {},
   "outputs": [
    {
     "data": {
      "text/plain": [
       "Date         0\n",
       "Open         0\n",
       "High         0\n",
       "Low          0\n",
       "Close        0\n",
       "Adj Close    0\n",
       "Volume       0\n",
       "dtype: int64"
      ]
     },
     "execution_count": 265,
     "metadata": {},
     "output_type": "execute_result"
    }
   ],
   "source": [
    "# Checking for null values.\n",
    "amc_df.isnull().sum()"
   ]
  },
  {
   "cell_type": "code",
   "execution_count": 266,
   "id": "elder-gothic",
   "metadata": {},
   "outputs": [
    {
     "data": {
      "text/html": [
       "<div>\n",
       "<style scoped>\n",
       "    .dataframe tbody tr th:only-of-type {\n",
       "        vertical-align: middle;\n",
       "    }\n",
       "\n",
       "    .dataframe tbody tr th {\n",
       "        vertical-align: top;\n",
       "    }\n",
       "\n",
       "    .dataframe thead th {\n",
       "        text-align: right;\n",
       "    }\n",
       "</style>\n",
       "<table border=\"1\" class=\"dataframe\">\n",
       "  <thead>\n",
       "    <tr style=\"text-align: right;\">\n",
       "      <th></th>\n",
       "      <th>Date</th>\n",
       "      <th>Open</th>\n",
       "      <th>High</th>\n",
       "      <th>Low</th>\n",
       "      <th>Volume</th>\n",
       "      <th>Close</th>\n",
       "    </tr>\n",
       "  </thead>\n",
       "  <tbody>\n",
       "    <tr>\n",
       "      <th>0</th>\n",
       "      <td>2020-04-16</td>\n",
       "      <td>2.35</td>\n",
       "      <td>2.49</td>\n",
       "      <td>2.15</td>\n",
       "      <td>6290800</td>\n",
       "      <td>2.44</td>\n",
       "    </tr>\n",
       "    <tr>\n",
       "      <th>1</th>\n",
       "      <td>2020-04-17</td>\n",
       "      <td>3.85</td>\n",
       "      <td>3.85</td>\n",
       "      <td>3.05</td>\n",
       "      <td>26799900</td>\n",
       "      <td>3.20</td>\n",
       "    </tr>\n",
       "    <tr>\n",
       "      <th>2</th>\n",
       "      <td>2020-04-20</td>\n",
       "      <td>3.22</td>\n",
       "      <td>3.44</td>\n",
       "      <td>3.06</td>\n",
       "      <td>10787200</td>\n",
       "      <td>3.18</td>\n",
       "    </tr>\n",
       "    <tr>\n",
       "      <th>3</th>\n",
       "      <td>2020-04-21</td>\n",
       "      <td>3.20</td>\n",
       "      <td>3.38</td>\n",
       "      <td>3.15</td>\n",
       "      <td>5788400</td>\n",
       "      <td>3.25</td>\n",
       "    </tr>\n",
       "    <tr>\n",
       "      <th>4</th>\n",
       "      <td>2020-04-22</td>\n",
       "      <td>3.39</td>\n",
       "      <td>3.39</td>\n",
       "      <td>3.16</td>\n",
       "      <td>4568600</td>\n",
       "      <td>3.18</td>\n",
       "    </tr>\n",
       "  </tbody>\n",
       "</table>\n",
       "</div>"
      ],
      "text/plain": [
       "         Date  Open  High   Low    Volume  Close\n",
       "0  2020-04-16  2.35  2.49  2.15   6290800   2.44\n",
       "1  2020-04-17  3.85  3.85  3.05  26799900   3.20\n",
       "2  2020-04-20  3.22  3.44  3.06  10787200   3.18\n",
       "3  2020-04-21  3.20  3.38  3.15   5788400   3.25\n",
       "4  2020-04-22  3.39  3.39  3.16   4568600   3.18"
      ]
     },
     "execution_count": 266,
     "metadata": {},
     "output_type": "execute_result"
    }
   ],
   "source": [
    "# Changing order of columns, moving Y (\"Close\" column) to the far right\n",
    "# Also removing \"Adj Close\" column, since its the same as \"Close\"\n",
    "columns=[\"Date\", \"Open\", \"High\",\"Low\", \"Volume\", \"Close\"]\n",
    "amc_df = amc_df[columns]\n",
    "amc_df.head()"
   ]
  },
  {
   "cell_type": "markdown",
   "id": "patient-melissa",
   "metadata": {},
   "source": [
    "Features (What we will use to predict the target): Open, High, Low, Volume\n",
    "\n",
    "Target (What we are predicting): Close"
   ]
  },
  {
   "cell_type": "code",
   "execution_count": 267,
   "id": "respected-boxing",
   "metadata": {},
   "outputs": [],
   "source": [
    "# I will now find the pearson coefficient for every feature\n",
    "# P value = the pearson coefficient correlation value\n",
    "target = \"Close\"\n",
    "\n",
    "p_open = PCC(amc_df, \"Open\", target)\n",
    "p_high = PCC(amc_df, \"High\", target)\n",
    "p_low = PCC(amc_df, \"Low\", target)\n",
    "p_volume = PCC(amc_df, \"Volume\", target)"
   ]
  },
  {
   "cell_type": "code",
   "execution_count": 268,
   "id": "everyday-prince",
   "metadata": {},
   "outputs": [
    {
     "name": "stdout",
     "output_type": "stream",
     "text": [
      "P-value for 'Open': 0.9817938374075329\n",
      "P-value for 'High': 0.9792750125803519\n",
      "P-value for 'Low': 0.9755985440455316\n",
      "P-value for 'Volume': 0.5364640523185773\n"
     ]
    }
   ],
   "source": [
    "print(\"P-value for 'Open':\", p_open)\n",
    "print(\"P-value for 'High':\", p_high)\n",
    "print(\"P-value for 'Low':\", p_low)\n",
    "print(\"P-value for 'Volume':\", p_volume)"
   ]
  },
  {
   "cell_type": "code",
   "execution_count": 269,
   "id": "graduate-bahamas",
   "metadata": {},
   "outputs": [
    {
     "name": "stdout",
     "output_type": "stream",
     "text": [
      "Original AMC Stock Data\n",
      "         Date  Open  High   Low    Volume  Close\n",
      "0  2020-04-16  2.35  2.49  2.15   6290800   2.44\n",
      "1  2020-04-17  3.85  3.85  3.05  26799900   3.20\n",
      "2  2020-04-20  3.22  3.44  3.06  10787200   3.18\n",
      "3  2020-04-21  3.20  3.38  3.15   5788400   3.25\n",
      "4  2020-04-22  3.39  3.39  3.16   4568600   3.18\n",
      "\n",
      "AMC Stock Data after raising the features to the power of their respective p_value\n",
      "         Date      Open      High       Low       Volume  Close\n",
      "0  2020-04-16  2.313727  2.443364  2.110214  4438.756343   2.44\n",
      "1  2020-04-17  3.756659  3.743924  2.968125  9658.872281   3.20\n",
      "2  2020-04-20  3.152171  3.353036  2.977619  5927.925232   3.18\n",
      "3  2020-04-21  3.132948  3.295755  3.063029  4244.920447   3.25\n",
      "4  2020-04-22  3.315483  3.305303  3.072515  3738.817342   3.18\n"
     ]
    }
   ],
   "source": [
    "# Now I will create a new dataframe, which will have all of the features, but raised to\n",
    "# the power of their respective coefficient value\n",
    "\n",
    "new_amc_df = amc_df.copy()\n",
    "\n",
    "new_amc_df[\"Open\"] = new_amc_df[\"Open\"] ** p_open\n",
    "new_amc_df[\"High\"] = new_amc_df[\"High\"] ** p_high\n",
    "new_amc_df[\"Low\"] = new_amc_df[\"Low\"] ** p_low\n",
    "new_amc_df[\"Volume\"] = new_amc_df[\"Volume\"] ** p_volume\n",
    "\n",
    "print(\"Original AMC Stock Data\")\n",
    "print(amc_df.head())\n",
    "print()\n",
    "print(\"AMC Stock Data after raising the features to the power of their respective p_value\")\n",
    "print(new_amc_df.head())"
   ]
  },
  {
   "cell_type": "code",
   "execution_count": null,
   "id": "indoor-kenya",
   "metadata": {},
   "outputs": [],
   "source": []
  }
 ],
 "metadata": {
  "kernelspec": {
   "display_name": "Python 3",
   "language": "python",
   "name": "python3"
  },
  "language_info": {
   "codemirror_mode": {
    "name": "ipython",
    "version": 3
   },
   "file_extension": ".py",
   "mimetype": "text/x-python",
   "name": "python",
   "nbconvert_exporter": "python",
   "pygments_lexer": "ipython3",
   "version": "3.8.5"
  }
 },
 "nbformat": 4,
 "nbformat_minor": 5
}
